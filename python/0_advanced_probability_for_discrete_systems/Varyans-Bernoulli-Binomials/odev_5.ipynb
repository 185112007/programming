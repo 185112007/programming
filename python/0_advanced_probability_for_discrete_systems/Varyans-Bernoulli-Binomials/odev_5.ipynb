{
  "nbformat": 4,
  "nbformat_minor": 0,
  "metadata": {
    "colab": {
      "name": "odev-5.ipynb",
      "version": "0.3.2",
      "provenance": [],
      "include_colab_link": true
    },
    "kernelspec": {
      "name": "python3",
      "display_name": "Python 3"
    }
  },
  "cells": [
    {
      "cell_type": "markdown",
      "metadata": {
        "id": "view-in-github",
        "colab_type": "text"
      },
      "source": [
        "<a href=\"https://colab.research.google.com/github/185112007/Ayrik-Sistemler-icin-Ileri-Olasilik/blob/master/Varyans-Bernoulli-Binomials/odev_5.ipynb\" target=\"_parent\"><img src=\"https://colab.research.google.com/assets/colab-badge.svg\" alt=\"Open In Colab\"/></a>"
      ]
    },
    {
      "cell_type": "markdown",
      "metadata": {
        "id": "8s3mXYBm2WDT",
        "colab_type": "text"
      },
      "source": [
        "### Varyans\n",
        "---\n",
        "\n",
        "**Problem:** Bir otomobil bayisinin günlük araba satışlarının dağılımının aşağıdaki gibi olduğunu ifade etmektedir.\n",
        "\n",
        "X | 0 | 1 | 2 | 3 | 4 | 5 | 6 | 7 | 8 |\n",
        "--- | --- | --- | --- | --- | --- | --- | --- | --- | --- |\n",
        "P(X) | 0.02 | 0.08 | 0.15 | 0.19 | 0.24 | 0.17 | 0.10 | 0.04 | 0.01 |\n",
        "\n",
        "Bu dagilisa gore bayinin;\n",
        "\n",
        ">(a) 5ten fazla araba satmasi olasiligini bulunuz?\n",
        "\n",
        ">(b) satislarinin beklenen degerini hesaplayiniz?\n",
        "\n",
        ">(c) satislarin varyansini bulunuz?\n",
        "\n",
        "**Çözüm**: \n",
        "\n",
        "> (a) P(X = 6) + P ( X = 7 ) + P ( X = 8 ) = 0,15\n",
        "\n",
        "> (b) E(X) = 0*0.02 + 1*0.08 +...+8*0.01 = 3.72 bayinin 100 gunde \n",
        "         372 araba satis yapmasi beklenir\n",
        "\n",
        "> (c) Var(X) = E(X^2) - E(X)^2\n",
        "\n",
        "> E(X^2) = 0^2*0.02+1^2*0.08+...+8^2*0.01 = 16.68\n",
        "\n",
        "> Var(X) = 16.68 - 3.72^2 = 2.84"
      ]
    },
    {
      "cell_type": "code",
      "metadata": {
        "id": "qgfY5vkvSMDP",
        "colab_type": "code",
        "colab": {
          "base_uri": "https://localhost:8080/",
          "height": 68
        },
        "outputId": "807fbf07-c50e-4a98-de53-2402afa8eca6"
      },
      "source": [
        "def probOf(array, startIndex):\n",
        "    total = 0\n",
        "    for x in range(startIndex, len(array)):\n",
        "        total = total + array[x]\n",
        "    return total\n",
        "\n",
        "def eX(array):\n",
        "    total = 0\n",
        "    for x in range(0, len(array)):\n",
        "        total = total + array[x]*x\n",
        "    return total\n",
        "\n",
        "def varX(array, eX):\n",
        "    eX2 = 0\n",
        "    for x in range(0, len(array)):\n",
        "        eX2 = eX2 + array[x]*x*x\n",
        "    return eX2-eX*eX\n",
        "\n",
        "px = [0.02, 0.08, 0.15, 0.19, 0.24, 0.17, 0.10, 0.04, 0.01]\n",
        "\n",
        "result = probOf(px, 6)\n",
        "print(\"(a) 5ten fazla araba satmasi olasiligi %.2f\" % result)\n",
        "\n",
        "result = eX(px)\n",
        "print(\"(b) satislarinin beklenen degeri %.2f\" % result)\n",
        "\n",
        "result = varX(px, result)\n",
        "print(\"(c) satislarin varyansi %.2f\" % result)"
      ],
      "execution_count": 3,
      "outputs": [
        {
          "output_type": "stream",
          "text": [
            "(a) 5ten fazla araba satmasi olasiligi 0.15\n",
            "(b) satislarinin beklenen degeri 3.72\n",
            "(c) satislarin varyansi 2.84\n"
          ],
          "name": "stdout"
        }
      ]
    },
    {
      "cell_type": "markdown",
      "metadata": {
        "id": "V8GYut7G2dX2",
        "colab_type": "text"
      },
      "source": [
        "### Bernoulli\n",
        "---\n",
        "\n",
        "**Problem:** Bir ampulün arızalı olma olasılığı 0,8 ise, ampulün arızalı olmaması olasılığı nedir?\n",
        "\n",
        "\n",
        "**Çözüm**: \n",
        "\n",
        "> Ampulün arızalı olma olasılığı, p = 0.8\n",
        "\n",
        "> Ampulün arızalı olmaması olasılığı, q = 1 - p = 1 - 0,8 = 0,2\n"
      ]
    },
    {
      "cell_type": "code",
      "metadata": {
        "id": "Q92J8jwydWln",
        "colab_type": "code",
        "outputId": "1005b68d-e98d-469d-83a8-d930a72cadee",
        "colab": {
          "base_uri": "https://localhost:8080/",
          "height": 51
        }
      },
      "source": [
        "def pX(x):\n",
        "    return 1-x\n",
        "\n",
        "pOfDef = 0.8\n",
        "pOfNotDef = pX(pOfDef)\n",
        "\n",
        "print(\"Ampulün arızalı olma olasılığı %.1f\" % pOfDef)\n",
        "print(\"Ampulün arızalı olmaması olasılığı %.1f\" % pOfNotDef)"
      ],
      "execution_count": 0,
      "outputs": [
        {
          "output_type": "stream",
          "text": [
            "Ampulün arızalı olma olasılığı 0.8\n",
            "Ampulün arızalı olmaması olasılığı 0.2\n"
          ],
          "name": "stdout"
        }
      ]
    },
    {
      "cell_type": "markdown",
      "metadata": {
        "id": "zLrU94giQ1d3",
        "colab_type": "text"
      },
      "source": [
        "### Binomials\n",
        "---\n",
        "\n",
        "**Problem:** Gözü kapalı bir nişancı ortalama 5 atışta 4 kez hedefi vurduğunu fark ediyor. \n",
        "\n",
        ">(a) nişancı 4 atış yaparsa hedefi 2 den fazla vurma olasılığı nedir?\n",
        "\n",
        ">(b) nişancı 4 atış yaparsa en az 3'unun kaçırma olasılığı nedir?\n",
        "\n",
        "**Çözüm**: \n",
        "\n",
        "> 5 atışta 4 kez hedefi vurduguna gore: hedefi vurma olasılığı 0.8, kacirma olasılıgı 0.2 dir\n",
        "\n",
        "> (a)'da hedefi 2'den fazla vurma olasılığı dediğine gore P(X) = P(4 atısta 3unu vurma) + P(4 atısta 4unu vurma). (b)'de en az 3'unun kacırma demek, P(X) = P(4 atısta 1 vurma) + P(4 atısta 0 vurma).\n",
        "\n",
        "> Binomial formulu yerine koydugumuz zaman (a) için P(X) = 0.81.92, (b) için P(X) = 0.0272 olduğunu kolaylıkla bulunur."
      ]
    },
    {
      "cell_type": "code",
      "metadata": {
        "id": "YoXq7wm-SOnp",
        "colab_type": "code",
        "outputId": "65d3939f-b38a-40f6-eaf2-765670f8c917",
        "colab": {
          "base_uri": "https://localhost:8080/",
          "height": 51
        }
      },
      "source": [
        "def multiply(n, k):\n",
        "    mul = 1;\n",
        "    for x in range(0, k):\n",
        "        mul = mul * n\n",
        "    return mul\n",
        "def fact(n):\n",
        "    f = 1;\n",
        "    while n>=1:\n",
        "        f=f*n\n",
        "        n=n-1\n",
        "    return f\n",
        "\n",
        "def comb(n, r):\n",
        "    return fact(n)/(fact(n-r)*fact(r))\n",
        "\n",
        "def pX(n, k, p):\n",
        "    return comb(n, k) * multiply(p, k) * multiply(1-p, n-k)\n",
        "\n",
        "hitP = 0.8 # vurma olasiligi\n",
        "missP = 1-hitP # kacirma olasiligi\n",
        "\n",
        "# (a)\n",
        "# P(4 atista 2den fazla vurma) = P(4 atista 3unu vurma) + P(4 atista 4unu vurma)\n",
        "p3 = pX(4,3,0.8) # 4 atista 3unu vurma olasiligi\n",
        "p4 = pX(4,4,0.8) # 4 atista 4unu vurma olasiligi\n",
        "p = p3+p4 # 4 atista 2den fazla vurma\n",
        "print (\"(a) p(4 atista 2den fazla vurma) = %.4f\" % p)\n",
        "\n",
        "# (b)\n",
        "# P(4 atista en az 3unu kacirma) = P(4 atista 3unu kacirma) + P(4 atista 4unu kacirma)\n",
        "# veya P = P(4 atista 1 vurma) + P(4 atista 0 vurma)\n",
        "p0 = pX(4,1,0.8)\n",
        "p1 = pX(4,0,0.8)\n",
        "p = p0+p1\n",
        "print (\"(b) p(4 atista en az 3'unu kacirma) = %.4f\" % p)"
      ],
      "execution_count": 0,
      "outputs": [
        {
          "output_type": "stream",
          "text": [
            "(a) p(4 atista 2den fazla vurma) = 0.8192\n",
            "(b) p(4 atista en az 3'unu kacirma) = 0.0272\n"
          ],
          "name": "stdout"
        }
      ]
    }
  ]
}