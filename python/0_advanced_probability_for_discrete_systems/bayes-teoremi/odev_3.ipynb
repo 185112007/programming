{
  "nbformat": 4,
  "nbformat_minor": 0,
  "metadata": {
    "colab": {
      "name": "odev-3.ipynb",
      "version": "0.3.2",
      "provenance": [],
      "include_colab_link": true
    },
    "kernelspec": {
      "name": "python3",
      "display_name": "Python 3"
    }
  },
  "cells": [
    {
      "cell_type": "markdown",
      "metadata": {
        "id": "view-in-github",
        "colab_type": "text"
      },
      "source": [
        "<a href=\"https://colab.research.google.com/github/185112007/Ayrik-Sistemler-icin-Ileri-Olasilik/blob/master/bayes-teoremi/odev_3.ipynb\" target=\"_parent\"><img src=\"https://colab.research.google.com/assets/colab-badge.svg\" alt=\"Open In Colab\"/></a>"
      ]
    },
    {
      "metadata": {
        "id": "l9-8VfapdsLq",
        "colab_type": "text"
      },
      "cell_type": "markdown",
      "source": [
        "# Bayes Teoremi: Fizikten Kalma Problemi\n",
        "\n",
        "\n",
        "---\n",
        "\n",
        "**Problem:** Bir sınıftaki ögrencilerin %40’ı erkektir. Erkeklerin %30, kızların %20’si fizikten kalmıstır. Secilen bir ogrencinin fizikten kaldigi bilindigine gore, bu ogrencinin erkek olma olasiligi nedir?\n",
        " \n",
        " _Çözüm  :_\n",
        " \n",
        " Bayes Teoremi: \n",
        " \n",
        " $$P(A|B)={{P(AintersectionB)}\\over {P(B)}}$$\n",
        " \n",
        "   burada P(A|B) - B olayının gerçeklesmesi kosulu altında A olayının olma olasılıgı.\n",
        " \n",
        " Bu teoremi örneğimize uyarlarsak, B olayı - fizikten kalanların olasılıgı, A olayı - erkek olma olasiligidır. A∩B olayıda fizikten kalmış ve erkek olma olasılıgı.\n",
        " \n",
        ">  `P(B)= P(fizikten kalan erkekler) + P(fizikten kalan kızlar)` \n",
        "\n",
        ">  `P(fizikten kalan erkekler) = 0.4 * 0.3`\n",
        "\n",
        ">  `P(fizikten kalan kızlar) = 0.6 * 0.2`\n",
        "\n",
        ">  `P(A∩B)= P(fizikten kalan erkekler)` \n",
        "\n",
        "**Not:** Yukarıdaki hesaplamalarda 0.4 ile çarpmamızın sebebi, sınıftaki tüm öğrencilerin %40'ı erkek olmasıdır. Ve 0.6 ile çarpmamızın sebebi de sınıftaki tüm öğrencilerin %60'ı kız olmasıdır.\n",
        "\n",
        "$${P(A|B)}= {{P(AintersectionB)}\\over {P(B)}} = {{0.40 * 0.30}\\over {0.40*0.30+0.60*0.20}} = {1\\over2}$$"
      ]
    },
    {
      "metadata": {
        "id": "uZbjVmPQ9cR5",
        "colab_type": "code",
        "colab": {
          "base_uri": "https://localhost:8080/",
          "height": 34
        },
        "outputId": "6da2f7a1-8bd1-49ce-e539-69a30a331d5e"
      },
      "cell_type": "code",
      "source": [
        "def pB(boys, girls, failedBoys, failGirls):\n",
        "  return calcFailed(boys,failedBoys)+calcFailed(girls,failGirls)\n",
        "\n",
        "def calcFailed(total, failed):\n",
        "  return (failed/100)*(total/100)\n",
        "\n",
        "\n",
        "percentOfBoys = 40\n",
        "percentOfGirls = 100 - percentOfBoys\n",
        "\n",
        "percentOfFailedBoys = 30\n",
        "percentOfFailedGirls = 20\n",
        "\n",
        "propOfB = pB(percentOfBoys,percentOfGirls,percentOfFailedBoys,percentOfFailedGirls)\n",
        "probOfAintersectionB = calcFailed(percentOfBoys,percentOfFailedBoys)\n",
        "\n",
        "prob = probOfAintersectionB/propOfB;\n",
        "\n",
        "print(str(prob))"
      ],
      "execution_count": 1,
      "outputs": [
        {
          "output_type": "stream",
          "text": [
            "0.5\n"
          ],
          "name": "stdout"
        }
      ]
    }
  ]
}