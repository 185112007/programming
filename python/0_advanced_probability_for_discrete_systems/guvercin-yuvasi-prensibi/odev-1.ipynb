{
  "nbformat": 4,
  "nbformat_minor": 0,
  "metadata": {
    "colab": {
      "name": "guvercin-yuvasi-prensibi.ipynb",
      "version": "0.3.2",
      "provenance": [],
      "collapsed_sections": [],
      "include_colab_link": true
    },
    "kernelspec": {
      "display_name": "Python 3",
      "language": "python",
      "name": "python3"
    }
  },
  "cells": [
    {
      "cell_type": "markdown",
      "metadata": {
        "id": "view-in-github",
        "colab_type": "text"
      },
      "source": [
        "<a href=\"https://colab.research.google.com/github/185112007/Ayrik-Sistemler-icin-Ileri-Olasilik/blob/master/guvercin-yuvasi-prensibi/odev-1.ipynb\" target=\"_parent\"><img src=\"https://colab.research.google.com/assets/colab-badge.svg\" alt=\"Open In Colab\"/></a>"
      ]
    },
    {
      "metadata": {
        "id": "V2OMLyom63pD",
        "colab_type": "text"
      },
      "cell_type": "markdown",
      "source": [
        "### Güvercin Yuvası Örneği"
      ]
    },
    {
      "metadata": {
        "id": "tB327FAO63pF",
        "colab_type": "text"
      },
      "cell_type": "markdown",
      "source": [
        "En az 6 öğrencinin aynı nota sahip olması için kaç öğrenciye ihtiyacımız var?\n",
        "Derece/Not: A,B,C,D ve F'dir."
      ]
    },
    {
      "metadata": {
        "id": "IeaQSTnR63pG",
        "colab_type": "text"
      },
      "cell_type": "markdown",
      "source": [
        "> `g = ?` öğrenciler(neslener/güvercinler)\n",
        "\n",
        "> `y = 5` derece(kutular/yuvalar)\n",
        "\n",
        "> `⎡ g/y ⎤ ≥ r`  en az 6 öğrenci aynı nota sahip olmalı &#8594; r = 6"
      ]
    },
    {
      "metadata": {
        "id": "kcJqa6ek63pI",
        "colab_type": "text"
      },
      "cell_type": "markdown",
      "source": [
        "##### Matematiksel Çözüm\n",
        " \n",
        " y = 5  ve r = 6 yerine koyarak &#8594; g = y(r-1)+1 bulurus.\n",
        " \n",
        "_Örneğimiz için_:\n",
        " > g = 5*(6-1)+1, \n",
        "  \n",
        " > g = 26\n",
        " \n",
        " En az 26 öğrenciye ihtiyac vardır."
      ]
    },
    {
      "metadata": {
        "id": "SITHKqI063pJ",
        "colab_type": "code",
        "outputId": "5c96e427-b0c4-4e9d-e6fb-5d25ea26ea10",
        "colab": {}
      },
      "cell_type": "code",
      "source": [
        "# g = y*(r-1)+1 hesaplayan fonksyon\n",
        "def gyiHesapla(y,r):\n",
        "    return y*(r-1)+1\n",
        "# y, dereceler(yuvalar)\n",
        "y = 5\n",
        "# r, aynı nota sahip olacak öğrenci sayısı\n",
        "r = 6\n",
        "# g, öğrenciler(guvercinler)\n",
        "g = gyiHesapla(y, r)\n",
        "print(\"En az \", g, \" öğrecniye ihtiyac vardır\")"
      ],
      "execution_count": 0,
      "outputs": [
        {
          "output_type": "stream",
          "text": [
            "En az  26  öğrecniye ihtiyac vardır\n"
          ],
          "name": "stdout"
        }
      ]
    }
  ]
}