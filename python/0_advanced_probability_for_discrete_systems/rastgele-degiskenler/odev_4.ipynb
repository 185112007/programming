{
  "nbformat": 4,
  "nbformat_minor": 0,
  "metadata": {
    "colab": {
      "name": "odev-4.ipynb",
      "version": "0.3.2",
      "provenance": [],
      "include_colab_link": true
    },
    "kernelspec": {
      "name": "python3",
      "display_name": "Python 3"
    }
  },
  "cells": [
    {
      "cell_type": "markdown",
      "metadata": {
        "id": "view-in-github",
        "colab_type": "text"
      },
      "source": [
        "<a href=\"https://colab.research.google.com/github/185112007/Ayrik-Sistemler-icin-Ileri-Olasilik/blob/master/rastgele-degiskenler/odev_4.ipynb\" target=\"_parent\"><img src=\"https://colab.research.google.com/assets/colab-badge.svg\" alt=\"Open In Colab\"/></a>"
      ]
    },
    {
      "metadata": {
        "id": "l_a-zPFYMRcl",
        "colab_type": "text"
      },
      "cell_type": "markdown",
      "source": [
        "## Verilen Olasılık Kütle Fonksiyonundan(PMF) Bekelenen Değeri Hesaplama\n",
        "\n",
        "---\n",
        "\n",
        "Problem:  X Rastgele degiskenine ait kesikli olasilik dagilimi\n",
        "          verilmistir. Beklenen deger kactir?(E[X]=?)\n",
        "\n",
        "          X     |  0    1    2    3\n",
        "          ------|---------------------\n",
        "          P(X=x)| 1/5  1/5  2/5  1/5\n",
        "          \n",
        " _Çözüm  :_\n",
        "\n",
        "          0*1/5 + 1*1/5 + 2*2/5 + 3*1/5 =  8/5\n",
        "    \n",
        "          1. Kesikli olasilik dagilimi icin bir dizi tanimla\n",
        "\n",
        "             p -> P(X=x)\n",
        "\n",
        "          2. Beklenen degeri hesaplamak icin bir fonksyon\n",
        "             tanimla.\n",
        "\n",
        "             beklenenDegeriHesapla(dizi) -> beklenen degeri hesaplayan\n",
        "                                    fonksyon\n",
        "\n",
        "          3. Beklenen deger ekrana yazdir"
      ]
    },
    {
      "metadata": {
        "id": "mUxyLnW6LQv0",
        "colab_type": "code",
        "colab": {
          "base_uri": "https://localhost:8080/",
          "height": 102
        },
        "outputId": "1a257fe7-fd83-4c39-fe5c-21b67cddf1bf"
      },
      "cell_type": "code",
      "source": [
        "# beklenen degeri hesaplayan fonksyon\n",
        "def beklenenDegeriHesapla(dizi):\n",
        "    result = 0\n",
        "    for idx, val in enumerate(dizi):\n",
        "        result += idx*val\n",
        "    return result\n",
        "\n",
        "# kesikli olasilik dagilimi icin dizi tanimlama\n",
        "p = [1/5, 1/5, 2/5, 1/5]\n",
        " \n",
        "# ekrana yazdirma\n",
        "print(\"X     |  0    1    2    3\")\n",
        "print(\"------|---------------------\")\n",
        "print(\"P(X=x)| 1/5  1/5  2/5  1/5\")\n",
        "\n",
        "# beklenen degeri hesaplama\n",
        "result = beklenenDegeriHesapla(p)\n",
        "\n",
        "print(\"\\nBeklenen deger: %.2f\" %result)"
      ],
      "execution_count": 1,
      "outputs": [
        {
          "output_type": "stream",
          "text": [
            "X     |  0    1    2    3\n",
            "------|---------------------\n",
            "P(X=x)| 1/5  1/5  2/5  1/5\n",
            "\n",
            "Beklenen deger: 1.60\n"
          ],
          "name": "stdout"
        }
      ]
    }
  ]
}