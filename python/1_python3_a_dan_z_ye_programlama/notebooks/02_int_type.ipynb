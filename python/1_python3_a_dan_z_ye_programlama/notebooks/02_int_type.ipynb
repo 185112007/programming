{
  "nbformat": 4,
  "nbformat_minor": 0,
  "metadata": {
    "kernelspec": {
      "display_name": "Python 3",
      "language": "python",
      "name": "python3"
    },
    "language_info": {
      "codemirror_mode": {
        "name": "ipython",
        "version": 3
      },
      "file_extension": ".py",
      "mimetype": "text/x-python",
      "name": "python",
      "nbconvert_exporter": "python",
      "pygments_lexer": "ipython3",
      "version": "3.8.3"
    },
    "colab": {
      "name": "02_int_type.ipynb",
      "provenance": [],
      "include_colab_link": true
    }
  },
  "cells": [
    {
      "cell_type": "markdown",
      "metadata": {
        "id": "view-in-github",
        "colab_type": "text"
      },
      "source": [
        "<a href=\"https://colab.research.google.com/github/185112007/programming/blob/master/python/1_python3_a_dan_z_ye_programlama/notebooks/02_int_type.ipynb\" target=\"_parent\"><img src=\"https://colab.research.google.com/assets/colab-badge.svg\" alt=\"Open In Colab\"/></a>"
      ]
    },
    {
      "cell_type": "markdown",
      "metadata": {
        "id": "DVfZ3ESurps8",
        "colab_type": "text"
      },
      "source": [
        "#### Integer veri tipi"
      ]
    },
    {
      "cell_type": "markdown",
      "metadata": {
        "id": "nqh1z_bwrptL",
        "colab_type": "text"
      },
      "source": [
        "x ve y suan icin Integer veri tipidir"
      ]
    },
    {
      "cell_type": "code",
      "metadata": {
        "id": "35ubejItrpte",
        "colab_type": "code",
        "colab": {}
      },
      "source": [
        "y = 10\n",
        "x = 5"
      ],
      "execution_count": 0,
      "outputs": []
    },
    {
      "cell_type": "code",
      "metadata": {
        "id": "lEAY3Y3Vrpu0",
        "colab_type": "code",
        "colab": {},
        "outputId": "ea5a9194-cf52-4333-999c-d0cf06452953"
      },
      "source": [
        "x"
      ],
      "execution_count": 0,
      "outputs": [
        {
          "output_type": "execute_result",
          "data": {
            "text/plain": [
              "5"
            ]
          },
          "metadata": {
            "tags": []
          },
          "execution_count": 3
        }
      ]
    },
    {
      "cell_type": "code",
      "metadata": {
        "id": "ugQ4XX0Yrpvk",
        "colab_type": "code",
        "colab": {},
        "outputId": "4e710376-7d56-4a0b-9eac-f02c1b17f106"
      },
      "source": [
        "y"
      ],
      "execution_count": 0,
      "outputs": [
        {
          "output_type": "execute_result",
          "data": {
            "text/plain": [
              "10"
            ]
          },
          "metadata": {
            "tags": []
          },
          "execution_count": 4
        }
      ]
    },
    {
      "cell_type": "code",
      "metadata": {
        "id": "0-oVN9u5rpwT",
        "colab_type": "code",
        "colab": {},
        "outputId": "e4ab2b8b-40e7-457b-f639-fa0a55e96818"
      },
      "source": [
        "x + y"
      ],
      "execution_count": 0,
      "outputs": [
        {
          "output_type": "execute_result",
          "data": {
            "text/plain": [
              "15"
            ]
          },
          "metadata": {
            "tags": []
          },
          "execution_count": 5
        }
      ]
    },
    {
      "cell_type": "code",
      "metadata": {
        "id": "-x754oX9rpw4",
        "colab_type": "code",
        "colab": {},
        "outputId": "5a7c6e31-6351-448a-cd3f-19a1ad48c91f"
      },
      "source": [
        "x + y + 10000"
      ],
      "execution_count": 0,
      "outputs": [
        {
          "output_type": "execute_result",
          "data": {
            "text/plain": [
              "10015"
            ]
          },
          "metadata": {
            "tags": []
          },
          "execution_count": 6
        }
      ]
    },
    {
      "cell_type": "markdown",
      "metadata": {
        "id": "mAnkIug-rpxe",
        "colab_type": "text"
      },
      "source": [
        "x ve y bu satirdan sonra tipi degismis olacaktir"
      ]
    },
    {
      "cell_type": "code",
      "metadata": {
        "id": "vllH9kUIrpxl",
        "colab_type": "code",
        "colab": {}
      },
      "source": [
        "x = 10.5"
      ],
      "execution_count": 0,
      "outputs": []
    },
    {
      "cell_type": "code",
      "metadata": {
        "id": "W5Up9ZAXrpyN",
        "colab_type": "code",
        "colab": {}
      },
      "source": [
        "y = 20.3"
      ],
      "execution_count": 0,
      "outputs": []
    },
    {
      "cell_type": "code",
      "metadata": {
        "id": "39nS91Nerpyn",
        "colab_type": "code",
        "colab": {},
        "outputId": "0b6a3712-9fa9-44e8-aa2e-31c9653d4be2"
      },
      "source": [
        "x + y"
      ],
      "execution_count": 0,
      "outputs": [
        {
          "output_type": "execute_result",
          "data": {
            "text/plain": [
              "30.8"
            ]
          },
          "metadata": {
            "tags": []
          },
          "execution_count": 9
        }
      ]
    }
  ]
}