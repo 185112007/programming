{
  "nbformat": 4,
  "nbformat_minor": 0,
  "metadata": {
    "colab": {
      "name": "odev-2.ipynb",
      "version": "0.3.2",
      "provenance": [],
      "collapsed_sections": [],
      "include_colab_link": true
    },
    "kernelspec": {
      "name": "python3",
      "display_name": "Python 3"
    }
  },
  "cells": [
    {
      "cell_type": "markdown",
      "metadata": {
        "id": "view-in-github",
        "colab_type": "text"
      },
      "source": [
        "<a href=\"https://colab.research.google.com/github/185112007/Ayrik-Sistemler-icin-Ileri-Olasilik/blob/master/permutasyon-kombinasyon/odev-2.ipynb\" target=\"_parent\"><img src=\"https://colab.research.google.com/assets/colab-badge.svg\" alt=\"Open In Colab\"/></a>"
      ]
    },
    {
      "metadata": {
        "id": "WTv5vUmnfH9q",
        "colab_type": "text"
      },
      "cell_type": "markdown",
      "source": [
        "# Permutasyon Örneği\n",
        "\n",
        "\n",
        "---\n",
        "\n",
        "A, B, C, D harflerinin ikisinin yanyana sıralanması için kaç farklı şekilde gerçekleşir?\n",
        "\n",
        "\n",
        "\n",
        "```\n",
        "          AB AC AD BC BD CD\n",
        "          BA CA DA CB DB DC\n",
        "```\n",
        "$$P(4,2) = {{4!}\\over {(4-2)!}} = {{4!}\\over {2!}} = {{4.3.2!}\\over {2!}} = 12.$$"
      ]
    },
    {
      "metadata": {
        "id": "eVmLi0dTK9j1",
        "colab_type": "code",
        "colab": {
          "base_uri": "https://localhost:8080/",
          "height": 34
        },
        "outputId": "41473505-6031-4479-e422-c4a89496efff"
      },
      "cell_type": "code",
      "source": [
        "# faktoriel islemi\n",
        "def fact(n):\n",
        "    f = 1;\n",
        "    while n>=1:\n",
        "        f=f*n\n",
        "        n=n-1\n",
        "    return f\n",
        "\n",
        "# permutasyon hesabı\n",
        "def perm(n, r):\n",
        "    return fact(n)/fact(n-r)\n",
        "\n",
        "# test\n",
        "\n",
        "n = 4\n",
        "r = 2\n",
        "print(str(perm(n,r)))"
      ],
      "execution_count": 1,
      "outputs": [
        {
          "output_type": "stream",
          "text": [
            "12.0\n"
          ],
          "name": "stdout"
        }
      ]
    },
    {
      "metadata": {
        "id": "k2o5TQrJLC0j",
        "colab_type": "text"
      },
      "cell_type": "markdown",
      "source": [
        "# Kombinasyon Örneği\n",
        "\n",
        "5 gömlekten 3ünü kaç farklı şekilde seçilir.\n",
        "\n",
        "$$C(n,x) = {{n!}\\over{(n-x)!*x!}}.$$\n",
        "\n",
        "_yerine koyarsak_ \n",
        "\n",
        "$$C(5,3) = {{5!}\\over{(5-3)!*3!}} = 10.$$\n"
      ]
    },
    {
      "metadata": {
        "id": "PIUTQNIaSxyp",
        "colab_type": "code",
        "colab": {
          "base_uri": "https://localhost:8080/",
          "height": 34
        },
        "outputId": "3ef7131a-dc51-4ee4-9fb3-1d147bf6fc1d"
      },
      "cell_type": "code",
      "source": [
        "# faktoriel islemi\n",
        "def fact(n):\n",
        "    f = 1;\n",
        "    while n>=1:\n",
        "        f=f*n\n",
        "        n=n-1\n",
        "    return f\n",
        "\n",
        "# kombinasyon islemi yapmak\n",
        "def comb(n,r):\n",
        "    return fact(n)/(fact(n-r)*fact(r))\n",
        "\n",
        "# test\n",
        "\n",
        "n = 5\n",
        "r = 3\n",
        "print(str(comb(n,r)))"
      ],
      "execution_count": 2,
      "outputs": [
        {
          "output_type": "stream",
          "text": [
            "10.0\n"
          ],
          "name": "stdout"
        }
      ]
    }
  ]
}